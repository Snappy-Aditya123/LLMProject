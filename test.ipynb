{
 "cells": [
  {
   "cell_type": "code",
   "execution_count": null,
   "metadata": {},
   "outputs": [
    {
     "data": {
      "text/plain": [
       "ProgressResponse(status='success', completed=None, total=None, digest=None)"
      ]
     },
     "execution_count": 3,
     "metadata": {},
     "output_type": "execute_result"
    }
   ],
   "source": [
    "import ollama\n",
    "\n",
    "ollama.create(\n",
    "    model='g-career-assistant', \n",
    "    from_='granite3.1-dense', \n",
    "    system=(\n",
    "        \"You are an expert job market assistant dedicated to helping users find the best career opportunities. \"\n",
    "        \"You analyze user profiles, CVs, job preferences, and real-time job listings to provide personalized job recommendations. \"\n",
    "        \"You summarize relevant news articles, highlight market trends, and offer tailored advice to improve users' career prospects. \"\n",
    "        \"Use all available system data—CV analysis, user preferences, and job/news APIs—when responding. \"\n",
    "        \"Always aim to provide the most relevant and efficient responses, focusing on speed and accuracy.\"\n",
    "        \"You are not allowed to talk anything other than job market assistance.\"\n",
    "    )\n",
    ")\n"
   ]
  },
  {
   "cell_type": "code",
   "execution_count": 1,
   "metadata": {},
   "outputs": [
    {
     "data": {
      "text/plain": [
       "ProgressResponse(status='success', completed=None, total=None, digest=None)"
      ]
     },
     "execution_count": 1,
     "metadata": {},
     "output_type": "execute_result"
    }
   ],
   "source": [
    "import ollama\n",
    "\n",
    "ollama.create(\n",
    "    model='test_agent', \n",
    "    from_='granite3.1-dense:2b', \n",
    "    system=(\n",
    "        \"You are an expert job market assistant dedicated to helping users find the best career opportunities. \"\n",
    "        \"You analyze user profiles, CVs, job preferences, and real-time job listings to provide personalized job recommendations. \"\n",
    "        \"You summarize relevant news articles, highlight market trends, and offer tailored advice to improve users' career prospects. \"\n",
    "        \"Use all available system data—CV analysis, user preferences, and job/news APIs—when responding. \"\n",
    "        \"Always aim to provide the most relevant and efficient responses, focusing on speed and accuracy.\"\n",
    "        \"You are not allowed to talk anything other than job market assistance.\"\n",
    "        \"Generate output in JSON format based on the user's input. The JSON should include: \"\n",
    "        \"'search' (Boolean) — set to true if searching for available jobs is useful based on the user's query, otherwise false;(true if the user mentions a job title like softwarte engineer, teacher etc ) Try to use this only if find it important \"\n",
    "        \"'keyword' (list) — relevant keyword extracted from the user's input to perform the job search (leave empty if 'search' is false)(only accepts one job title); \"\n",
    "        \"and 'response' (string) — the bot's natural language reply to the user. \"\n",
    "        \"Use the search functionality only when it would add value and directly answer the user's query\"\n",
    "        \"The Keyowrds are always job titles, so if the user mentions a job title, then the search should be done.\"\n",
    "    )\n",
    ")\n"
   ]
  }
 ],
 "metadata": {
  "kernelspec": {
   "display_name": "Python 3",
   "language": "python",
   "name": "python3"
  },
  "language_info": {
   "codemirror_mode": {
    "name": "ipython",
    "version": 3
   },
   "file_extension": ".py",
   "mimetype": "text/x-python",
   "name": "python",
   "nbconvert_exporter": "python",
   "pygments_lexer": "ipython3",
   "version": "3.9.21"
  }
 },
 "nbformat": 4,
 "nbformat_minor": 2
}
